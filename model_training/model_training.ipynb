{
 "cells": [
  {
   "cell_type": "code",
   "execution_count": 10,
   "metadata": {},
   "outputs": [],
   "source": [
    "from scipy.optimize import least_squares\n",
    "import numpy as np\n",
    "import matplotlib.pyplot as plt\n",
    "import csv\n",
    "import numpy.ma as ma"
   ]
  },
  {
   "cell_type": "code",
   "execution_count": 19,
   "metadata": {},
   "outputs": [],
   "source": [
    "# THIS IS ALL OF THE FUNCTIONS BEHIND THE SCENES\n",
    "\n",
    "# This is the general equation that we are modeling\n",
    "# param is a list, where param[0] = a, param[1] = b, param[2] = d\n",
    "# x is also a list, where x[0] = TMP, x[1] = flow rate\n",
    "def model(param, x):\n",
    "    return (param[0] * x[1]) / (x[0] - x[1] * param[1]) + x[1] * param[2]\n",
    "\n",
    "# This is the objective function that we want to be as close to 0 as possible\n",
    "# Aka, we want the model - y to be 0\n",
    "def objective_function(param, x, y):\n",
    "    return model(param, x) - y\n",
    "\n",
    "# This is the Jacobian of the above model, with partial derivatives taken with\n",
    "# respect to the parameters\n",
    "def jac(param, x, y):\n",
    "    # We establish an empty 2D array (input size x num parameters)\n",
    "    J = np.empty((len(x[0]), len(param)))\n",
    "    # dF/da\n",
    "    J[:, 0] = x[1, :] / (x[0, :] - x[1, :] * param[1])\n",
    "    # dF/db\n",
    "    J[:, 1] = (x[1, :]**2 * param[0]) / (x[0, :] - x[1, :] * param[1])**2\n",
    "    # dF/dd\n",
    "    J[:, 2] = x[1, :]\n",
    "    return J\n",
    "\n",
    "# Create a model from the data input\n",
    "def create_model(data):\n",
    "    # We read in the data from the parameters, generated above in get_data\n",
    "    y_data = np.array(data['y'], dtype=np.float)\n",
    "    x_1_data = np.array(data['x_1'], dtype=np.float)\n",
    "    x_2_data = np.array(data['x_2'], dtype=np.float)\n",
    "    # We have to combine the multiple dependent variables into a single\n",
    "    x_data = np.array([x_1_data, x_2_data])\n",
    "\n",
    "    # These are our initial guesses for a, b, and d respectively\n",
    "    initial_guesses = np.array([0.01, -0.1, 0.01])\n",
    "\n",
    "    # Run our least_squares analysis\n",
    "    res = least_squares(objective_function, initial_guesses, jac=jac, args=(x_data, y_data), verbose=1)\n",
    "\n",
    "    # Return the 'x' values, which are the parameters it has learned\n",
    "    return res.x\n",
    "\n",
    "\n",
    "# Create a graph from the model created\n",
    "# DON'T CHANGE THIS\n",
    "def generate_graph(data, results):\n",
    "    # Find unique flowrates in the data\n",
    "    flowrates = list(set(data['x_2']))\n",
    "\n",
    "    # We want a bounding x value\n",
    "    max_tmp = float(max(data['x_1'])) * 1.5\n",
    "\n",
    "    # We put it all in a dictionary\n",
    "    for flowrate in flowrates:\n",
    "        # Create a linspace of tmps, as well as a list of equal length of the one flowrate\n",
    "        x_tmp_values = np.linspace(0, max_tmp, 50)\n",
    "        x_flow_values = np.full((50), flowrate, dtype=np.float)\n",
    "        y_data = model(results, np.array([x_tmp_values, x_flow_values]))\n",
    "\n",
    "        plt.plot(x_tmp_values, y_data, 'o', markersize=2)\n",
    "\n",
    "    # Just some annoying calculations to plot the original data together\n",
    "    for flowrate in flowrates:\n",
    "        x_1 = np.array(data['x_1'], dtype=np.float)\n",
    "        x_2 = np.array(data['x_2'])\n",
    "        y = np.array(data['y'], dtype=np.float)\n",
    "        x_values = ma.masked_where(x_2 != flowrate, x_1)\n",
    "        x_values = x_values[~x_values.mask]\n",
    "        y_values = ma.masked_where(x_2 != flowrate, y)\n",
    "        y_values = np.array(y_values[~y_values.mask])\n",
    "\n",
    "        plt.plot(x_values, y_values)\n",
    "\n",
    "    # Plot with the flowrates attached\n",
    "    plt.legend([a + ' model' for a in flowrates]+[a + ' original' for a in flowrates])\n",
    "    plt.ylabel('Steady-state permeate flux (L/(m^2*h))')\n",
    "    plt.xlabel('TMP (bar)')\n",
    "    plt.show()\n",
    "\n",
    "# Get the data from the CSV file\n",
    "# DON'T CHANGE THIS\n",
    "def get_data(file_name):\n",
    "    with open(file_name) as f:\n",
    "        csv_reader = csv.reader(f, delimiter=',')\n",
    "        y = []\n",
    "        x_1 = []\n",
    "        x_2 = []\n",
    "        next(csv_reader)\n",
    "        for row in csv_reader:\n",
    "            x_1.append(row[0])\n",
    "            x_2.append(row[1])\n",
    "            y.append(row[2])\n",
    "\n",
    "        return {'y': y, 'x_1': x_1, 'x_2': x_2}"
   ]
  },
  {
   "cell_type": "code",
   "execution_count": 25,
   "metadata": {},
   "outputs": [],
   "source": [
    "import os\n",
    "notebook_path = os.path.abspath(\"model_training.ipynb\")  # HERE IS WHERE YOU PUT THE DIFFERENT FILE NAME\n",
    "train_csv = os.path.join(os.path.dirname(notebook_path), \"example-data.csv\")\n",
    "\n",
    "# Get the data from the CSV\n",
    "data = get_data(train_csv)"
   ]
  },
  {
   "cell_type": "code",
   "execution_count": 26,
   "metadata": {},
   "outputs": [
    {
     "name": "stdout",
     "output_type": "stream",
     "text": [
      "`ftol` termination condition is satisfied.\n",
      "Function evaluations 35, initial cost 3.5647e+03, final cost 2.1366e+02, first-order optimality 1.99e+01.\n"
     ]
    }
   ],
   "source": [
    "# Get the parameter results\n",
    "results = create_model(data)"
   ]
  },
  {
   "cell_type": "code",
   "execution_count": 27,
   "metadata": {},
   "outputs": [
    {
     "name": "stdout",
     "output_type": "stream",
     "text": [
      "For the equation: (flowrate * a) / (tmp - flowrate * b) + flowrate * c\n",
      "a = -0.002749688274522191\n",
      "b = -8.301768508494198e-05\n",
      "c = 0.03741113513434366\n"
     ]
    },
    {
     "data": {
      "image/png": "[encoded data removed]",
      "text/plain": [
       "<Figure size 432x288 with 1 Axes>"
      ]
     },
     "metadata": {
      "needs_background": "light"
     },
     "output_type": "display_data"
    }
   ],
   "source": [
    "# Output the new parameters\n",
    "print('For the equation: (flowrate * a) / (tmp - flowrate * b) + flowrate * c')\n",
    "print('a = {}'.format(results[0]))\n",
    "print('b = {}'.format(results[1]))\n",
    "print('c = {}'.format(results[2]))\n",
    "\n",
    "print(results)\n",
    "\n",
    "\n",
    "\n",
    "# Graph the data, if requested\n",
    "generate_graph(data, results)"
   ]
  },
  {
   "cell_type": "code",
   "execution_count": null,
   "metadata": {},
   "outputs": [],
   "source": []
  }
 ],
 "metadata": {
  "kernelspec": {
   "display_name": "Python 3",
   "language": "python",
   "name": "python3"
  },
  "language_info": {
   "codemirror_mode": {
    "name": "ipython",
    "version": 3
   },
   "file_extension": ".py",
   "mimetype": "text/x-python",
   "name": "python",
   "nbconvert_exporter": "python",
   "pygments_lexer": "ipython3",
   "version": "3.8.6"
  }
 },
 "nbformat": 4,
 "nbformat_minor": 4
}
